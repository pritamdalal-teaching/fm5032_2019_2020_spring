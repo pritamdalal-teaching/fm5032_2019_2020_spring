{
 "cells": [
  {
   "cell_type": "markdown",
   "metadata": {},
   "source": [
    "# Black-Scholes-Merton Option Replication"
   ]
  },
  {
   "cell_type": "markdown",
   "metadata": {},
   "source": [
    "The Black-Scholes-Merton framework is one of the foundation of quantitative finance.  Not only does it provide a theoretical pricing framework, but it also gives a practical engineering result: the manufacturing process a derivatives desk should employ to contruct options for it's customers.  This gave birth to the entire derivatives industry.\n",
    "\n",
    "The purpose of this notebook is to explore the option manufacturing process by performing data analysis on simulated data."
   ]
  },
  {
   "cell_type": "markdown",
   "metadata": {},
   "source": [
    "## Loading Packages"
   ]
  },
  {
   "cell_type": "markdown",
   "metadata": {},
   "source": [
    "Let's begin by loading the standard packages we will need."
   ]
  },
  {
   "cell_type": "code",
   "execution_count": 1,
   "metadata": {},
   "outputs": [],
   "source": [
    "##> import numpy as np\n",
    "##> import pandas as pd\n",
    "##> pd.options.display.max_rows = 10\n",
    "\n",
    "\n"
   ]
  },
  {
   "cell_type": "markdown",
   "metadata": {},
   "source": [
    "Additionally, we will also require several functions from the `py_vollib` package for calculating option greeks."
   ]
  },
  {
   "cell_type": "code",
   "execution_count": 2,
   "metadata": {},
   "outputs": [],
   "source": [
    "##> from py_vollib.black_scholes_merton import black_scholes_merton\n",
    "##> from py_vollib.black_scholes_merton.greeks.analytical import delta\n",
    "##> from py_vollib.black_scholes_merton.greeks.analytical import vega\n",
    "##> from py_vollib.black_scholes_merton.implied_volatility import implied_volatility\n",
    "\n",
    "\n"
   ]
  },
  {
   "cell_type": "markdown",
   "metadata": {},
   "source": [
    "## Converting `py_vollib` Functions"
   ]
  },
  {
   "cell_type": "markdown",
   "metadata": {},
   "source": [
    "In this section, we convert several of the functions in `py_vollib` so that they can accept the row of a `DataFrame` as their argument.  This will allow us to use these function with `DataFrame.apply()`, which will use to write compact vectorized code.  Notice that we assume a zero risk-free rate, and zero dividend yield throughout this tutorial, and thus those values are hardcoded into these functions.."
   ]
  },
  {
   "cell_type": "code",
   "execution_count": 3,
   "metadata": {},
   "outputs": [],
   "source": [
    "##> def bsm_px(row):\n",
    "##>     cp = row['cp']\n",
    "##>     upx = row['upx']\n",
    "##>     strike = row['strike']\n",
    "##>     t2x = row['t2x']\n",
    "##>     rf = 0\n",
    "##>     volatility = row['volatility']\n",
    "##>     q = 0\n",
    "##>     px = black_scholes_merton(cp, upx, strike, t2x, rf, volatility, q)\n",
    "##>     px = np.round(px, 2)\n",
    "##>     return(px)\n",
    "\n",
    "\n"
   ]
  },
  {
   "cell_type": "code",
   "execution_count": 4,
   "metadata": {},
   "outputs": [],
   "source": [
    "##> def bsm_delta(row):\n",
    "##>     cp = row['cp']\n",
    "##>     upx = row['upx']\n",
    "##>     strike = row['strike']\n",
    "##>     t2x = row['t2x']\n",
    "##>     rf = 0\n",
    "##>     volatility = row['volatility']\n",
    "##>     q = 0\n",
    "##>     diff = delta(cp, upx, strike, t2x, rf, volatility, q)\n",
    "##>     diff = np.round(diff, 3)\n",
    "##>     return(diff)\n",
    "\n",
    "\n"
   ]
  },
  {
   "cell_type": "code",
   "execution_count": 5,
   "metadata": {},
   "outputs": [],
   "source": [
    "##> def bsm_vega(row):\n",
    "##>     cp = row['cp']\n",
    "##>     upx = row['upx']\n",
    "##>     strike = row['strike']\n",
    "##>     t2x = row['t2x']\n",
    "##>     rf = 0\n",
    "##>     volatility = row['volatility']\n",
    "##>     q = 0\n",
    "##>     vga = vega(cp, upx, strike, t2x, rf, volatility, q)\n",
    "##>     vga = np.round(vga, 3)\n",
    "##>     return(vga)\n",
    "\n",
    "\n"
   ]
  },
  {
   "cell_type": "markdown",
   "metadata": {},
   "source": [
    "## Geometric Brownian Motion"
   ]
  },
  {
   "cell_type": "markdown",
   "metadata": {},
   "source": [
    "The series of trade prices for a stock is often modeled as a series of random variables, which is also referred to as a *stochastic process*. There many types of stochastic processes, and some of them resemble actual stock price movements better than others.\n",
    "\n",
    "The Black-Scholes-Merton option pricing framework assumes that the price process of the underlying asset follows a *geometric brownian motion* (GBM). This means that:\n",
    "\n",
    "1. The price process is continuous.\n",
    "\n",
    "1. The log return over any period of time is normally distributed.\n",
    "\n",
    "2. The returns during any two disjoint periods are independent.\n",
    "\n",
    "GBMs are one of the simplest types of processes that reasonably model asset price dynamics, so it's often a good place to start when learning about simulating stock price data.\n",
    "\n",
    "The price process of a geometric brownian motion is determined by the current risk-free rate $r$ and the annualized volatility of the underlying $\\sigma$.  Prices that are separated by $\\Delta t$ units of time are related by following equation:\n",
    "\n",
    "$$S_{t} =  S_{t - \\Delta t} \\cdot \\exp\\bigg(\\bigg(r - \\frac{1}{2}\\sigma^2\\bigg)\\Delta t + \\sigma \\sqrt{\\Delta t} z_{t}\\bigg)$$\n",
    "\n",
    "where $z_{t}$ is a standard normal random variable.\n",
    "\n",
    "This is called the Euler discretization of a GBM. It will serve as the  recipe for our price-path simulation algorithm.  Note that the expression in the parentheses is log-return of the stock between time $t - \\Delta t$ and $t$.\n",
    "\n",
    "Although the  GBM assumptions are often violated in actual prices, there is still enough truth in them that the Black-Schole-Merton manufacturing process is practically useful.  It prescribes a process which tells derivative dealers how to construct the contracts that their customers are interested in.  This manufacturing process is referred to as *constructing a replicating portfolio*, which in the case of vanilla option is accomplished via dynamic trading strategy of the underlying asset.  This dynamic strategy is called *delta*-hedging. "
   ]
  },
  {
   "cell_type": "markdown",
   "metadata": {},
   "source": [
    "**Discussion Question:**  Put-call parity is a pricing identity that eminates from a static replication strategy, describe the strategy and the pricing identity."
   ]
  },
  {
   "cell_type": "code",
   "execution_count": null,
   "metadata": {},
   "outputs": [],
   "source": [
    "\n",
    "\n",
    "\n",
    "\n"
   ]
  },
  {
   "cell_type": "markdown",
   "metadata": {},
   "source": [
    "## The Option We Will Analyze"
   ]
  },
  {
   "cell_type": "markdown",
   "metadata": {},
   "source": [
    "We want to analyze what it means for a derivatives dealer to trade an and then delta-hedge the position.  Let's consider an option that actually traded in the market place:\n",
    "\n",
    "- underlying: QQQ\n",
    "- current date: 11/16/2018\n",
    "- expiration: 12/21/2018\n",
    "- type: put\n",
    "- strike: 160\n",
    "- upx: 168\n",
    "- days-to-expiration (d2x): 24\n",
    "- price: 2.25"
   ]
  },
  {
   "cell_type": "markdown",
   "metadata": {},
   "source": [
    "From this trade price, we can calculate an implied volatility, which we will also refer to as the *pricing volatility*.  (Note that this is the typical flow of events, the price of an option is observed, and from that observed price, an implied volatility is calculated.)"
   ]
  },
  {
   "cell_type": "code",
   "execution_count": 6,
   "metadata": {},
   "outputs": [],
   "source": [
    "##> pricing_vol = implied_volatility(price = 2.25, S = 168, K = 160, t = 24/252, r = 0, q = 0, flag = 'p')\n",
    "##> pricing_vol = np.round(pricing_vol, 4)\n",
    "##> pricing_vol\n",
    "\n",
    "\n"
   ]
  },
  {
   "cell_type": "markdown",
   "metadata": {},
   "source": [
    "## Delta-Hedging: Single Simulated Underlying Price Path"
   ]
  },
  {
   "cell_type": "markdown",
   "metadata": {},
   "source": [
    "It is typical that a derivatives dealer will trade the above option with a customer, and then hold that option option until expiration and delta hedge it on a daily basis.  \n",
    "\n",
    "The BSM manufacturing framework states that **the dealer will *break even* if**:\n",
    "\n",
    "1. the underlying price follows a geometric brownian motion\n",
    "2. the realized volatility during the life of the option is equal to the implied volatility used to price the option\n",
    "3. the dealer delta-hedges with frequent rebalancing (continuously, in the limit)\n",
    "\n",
    "In this section we are going to explore what exactly this manufacturing process looks like for a particular price path of the underlying.  In order to do this, let's simulate a single geometric brownian motion path who's realized volatility is equal to the pricing volatility of our QQQ option.  This price path will consist of a series of daily prices that starts with 168, the spot price at the time of the trade.  We will rebalance the delta-hedge daily."
   ]
  },
  {
   "cell_type": "markdown",
   "metadata": {},
   "source": [
    "The following code generates this path:"
   ]
  },
  {
   "cell_type": "code",
   "execution_count": 7,
   "metadata": {},
   "outputs": [],
   "source": [
    "##> # setting the random seed\n",
    "##> np.random.seed(1)\n",
    "##> \n",
    "##> # parameters of simulation\n",
    "##> r = 0\n",
    "##> path_vol = pricing_vol\n",
    "##> dt = 1./252\n",
    "##> \n",
    "##> # initializing paths\n",
    "##> single_path = np.zeros(25)\n",
    "##> single_path[0] = 168\n",
    "##> \n",
    "##> # looping through days and generating steps in the paths\n",
    "##> for t in range(1, 25):\n",
    "##>     z = np.random.standard_normal(1)\n",
    "##>     single_path[t] = single_path[t - 1] * np.exp((r - 0.5 * path_vol ** 2) * dt + path_vol * np.sqrt(dt) * z) # memorize this line\n",
    "##>     single_path[t] = np.round(single_path[t], 2)\n",
    "\n",
    "\n"
   ]
  },
  {
   "cell_type": "markdown",
   "metadata": {},
   "source": [
    "Let's take a look at the path we generated.  (Obviously, in a real-world situation this price path would be realized over the course of the life of the option.)"
   ]
  },
  {
   "cell_type": "code",
   "execution_count": 8,
   "metadata": {},
   "outputs": [],
   "source": [
    "##> single_path\n",
    "\n"
   ]
  },
  {
   "cell_type": "markdown",
   "metadata": {},
   "source": [
    "Next, let's create a `DataFrame` that will track the PNL from delta-hedging the option; this `DataFrame` will also contain all the information needed to calculate the price and greeks of the option on a daily basis."
   ]
  },
  {
   "cell_type": "code",
   "execution_count": 9,
   "metadata": {},
   "outputs": [],
   "source": [
    "##> df_path = \\\n",
    "##>     (\n",
    "##>     pd.DataFrame(\n",
    "##>         {'underlying':'QQQ',\n",
    "##>          'cp':'p',\n",
    "##>          'strike':160,\n",
    "##>          'volatility':0.2636,\n",
    "##>          'upx':single_path, \n",
    "##>          'd2x':list(range(24, -1, -1)),\n",
    "##>          'buy_sell':1,\n",
    "##>         }       \n",
    "##>     )\n",
    "##>     .assign(t2x = lambda df: df.d2x / 252)\n",
    "##>     )\n",
    "##> df_path\n",
    "\n",
    "\n"
   ]
  },
  {
   "cell_type": "markdown",
   "metadata": {},
   "source": [
    "We can now use the `bsm_px()` function to calculate the prices of the option through for each day in the simulation.  At a derivative dealer, these values would be generated in real-time by a position management system."
   ]
  },
  {
   "cell_type": "code",
   "execution_count": 10,
   "metadata": {},
   "outputs": [],
   "source": [
    "##> df_path['option_price'] = df_path[['cp', 'upx', 'strike', 't2x', 'volatility']].apply(bsm_px, axis = 1)\n",
    "##> df_path\n",
    "\n",
    "\n"
   ]
  },
  {
   "cell_type": "markdown",
   "metadata": {},
   "source": [
    "Let's calculate the deltas through time.  Notice that as the price of the underlying goes down the (absoulte) delta of the put increases, and as the price of the underlying goes up the delta decreases."
   ]
  },
  {
   "cell_type": "code",
   "execution_count": 11,
   "metadata": {},
   "outputs": [],
   "source": [
    "##> df_path['delta'] = df_path[['cp', 'upx', 'strike', 't2x', 'volatility']].apply(bsm_delta, axis = 1)\n",
    "##> df_path\n",
    "\n",
    "\n"
   ]
  },
  {
   "cell_type": "markdown",
   "metadata": {},
   "source": [
    "Next, we calculate the option PNL. "
   ]
  },
  {
   "cell_type": "code",
   "execution_count": 12,
   "metadata": {},
   "outputs": [],
   "source": [
    "##> df_path['option_pnl'] = df_path['buy_sell'] * df_path['option_price'].diff()\n",
    "##> df_path\n",
    "\n",
    "\n"
   ]
  },
  {
   "cell_type": "markdown",
   "metadata": {},
   "source": [
    "Delta-hedging with daily rebalancing means at the end of each day we hold a position in the underlying who's size is equal to the negative of the delta of the option position.  Thus, the daily delta-hedging PNL is calculated as follows:"
   ]
  },
  {
   "cell_type": "code",
   "execution_count": 13,
   "metadata": {},
   "outputs": [],
   "source": [
    "##> df_path['delta_hedge_pnl'] = -df_path['buy_sell'] * df_path['delta'].shift(1) * df_path['upx'].diff() \n",
    "##> df_path\n",
    "\n",
    "\n"
   ]
  },
  {
   "cell_type": "markdown",
   "metadata": {},
   "source": [
    "**Discussion Question:**  What is the delta-hedging position held at the end of d2x = 21.  What is the trade executed at that time?"
   ]
  },
  {
   "cell_type": "code",
   "execution_count": null,
   "metadata": {},
   "outputs": [],
   "source": [
    "\n",
    "\n",
    "\n",
    "\n"
   ]
  },
  {
   "cell_type": "markdown",
   "metadata": {},
   "source": [
    " "
   ]
  },
  {
   "cell_type": "markdown",
   "metadata": {},
   "source": [
    "The `total_pnl` of the delta-hedged option position is the combination of the `option_pnl` and the `delta_hedge_pnl`."
   ]
  },
  {
   "cell_type": "code",
   "execution_count": 14,
   "metadata": {},
   "outputs": [],
   "source": [
    "##> df_path['total_pnl'] = df_path['option_pnl'] + df_path['delta_hedge_pnl']\n",
    "##> df_path\n",
    "\n",
    "\n"
   ]
  },
  {
   "cell_type": "markdown",
   "metadata": {},
   "source": [
    "As we can see, the total PNL of the delta-hedged option position is close to zero, but not exactly zero."
   ]
  },
  {
   "cell_type": "code",
   "execution_count": 15,
   "metadata": {},
   "outputs": [],
   "source": [
    "##> df_path['total_pnl'].sum()\n",
    "\n"
   ]
  },
  {
   "cell_type": "markdown",
   "metadata": {},
   "source": [
    " "
   ]
  },
  {
   "cell_type": "markdown",
   "metadata": {},
   "source": [
    "**Code Challenge:**  Copy and past the above code into the space below, and then modify it to calculate the PNL for selling this option for 2.25 and then delta-hedging it over this same scenario."
   ]
  },
  {
   "cell_type": "code",
   "execution_count": null,
   "metadata": {},
   "outputs": [],
   "source": [
    "\n",
    "\n",
    "\n"
   ]
  },
  {
   "cell_type": "markdown",
   "metadata": {},
   "source": [
    "## Delta-Hedging: Multiple Simulated Underlying Price Paths"
   ]
  },
  {
   "cell_type": "markdown",
   "metadata": {},
   "source": [
    "As we saw in the above example, we came fairly close to a zero PNL from delta hedging on a daily basis, which is what the BSM framework suggests.  However, this was just for a single hypothetical path, so we may have just gotten lucky.  In this section, we will generate PNL data for daily delta-hedging over a variety of paths, and analyze the resulting distribution."
   ]
  },
  {
   "cell_type": "markdown",
   "metadata": {},
   "source": [
    "Let's begin by initializing our option position and scenario generation parameters."
   ]
  },
  {
   "cell_type": "code",
   "execution_count": 16,
   "metadata": {},
   "outputs": [],
   "source": [
    "##> buy_sell = -1\n",
    "##> cp = 'p'\n",
    "##> spot = 168.\n",
    "##> strike = 160.\n",
    "##> tenor = 24./252. # I want to generalize this\n",
    "##> option_price = 2.25\n",
    "##> pricing_vol = implied_volatility(price = option_price, S = spot, K = strike, t = tenor, r = 0, q = 0, flag = cp)\n",
    "##> path_vol = pricing_vol\n",
    "##> hedge_frequency = 24\n",
    "##> dt = tenor / hedge_frequency  # I want to generalize this\n",
    "##> r = 0\n",
    "##> num_paths = 1000\n",
    "\n",
    "\n"
   ]
  },
  {
   "cell_type": "markdown",
   "metadata": {},
   "source": [
    " "
   ]
  },
  {
   "cell_type": "markdown",
   "metadata": {},
   "source": [
    "Next, we initialize an array that will hold all of our paths."
   ]
  },
  {
   "cell_type": "code",
   "execution_count": 17,
   "metadata": {},
   "outputs": [],
   "source": [
    "##> multiple_paths = np.zeros((hedge_frequency + 1, num_paths))\n",
    "##> multiple_paths\n",
    "\n",
    "\n"
   ]
  },
  {
   "cell_type": "markdown",
   "metadata": {},
   "source": [
    " "
   ]
  },
  {
   "cell_type": "markdown",
   "metadata": {},
   "source": [
    "The first price in every path is the current spot price of the underlying."
   ]
  },
  {
   "cell_type": "code",
   "execution_count": 18,
   "metadata": {},
   "outputs": [],
   "source": [
    "##> multiple_paths[0] = spot\n",
    "##> multiple_paths\n",
    "\n",
    "\n"
   ]
  },
  {
   "cell_type": "markdown",
   "metadata": {},
   "source": [
    " "
   ]
  },
  {
   "cell_type": "markdown",
   "metadata": {},
   "source": [
    "Using the convenience of broadcasting in `numpy.arrays`, we can easily calculate all of the required scenarios in a few lines of code."
   ]
  },
  {
   "cell_type": "code",
   "execution_count": 19,
   "metadata": {},
   "outputs": [],
   "source": [
    "##> # setting the random seed\n",
    "##> np.random.seed(1)\n",
    "##> \n",
    "##> for t in range(1, hedge_frequency + 1):\n",
    "##>     z = np.random.standard_normal(num_paths) \n",
    "##>     multiple_paths[t] = multiple_paths[t - 1] * np.exp((r - 0.5 * path_vol ** 2) * dt + path_vol * np.sqrt(dt) * z)\n",
    "##>     multiple_paths[t] = np.round(multiple_paths[t], 2)\n",
    "##>     \n",
    "##> multiple_paths\n",
    "\n",
    "\n"
   ]
  },
  {
   "cell_type": "markdown",
   "metadata": {},
   "source": [
    " "
   ]
  },
  {
   "cell_type": "markdown",
   "metadata": {},
   "source": [
    "Just to make sure we understand our data structures, let's pull out the first scenario and perform our delta-hedge calculations with it.  After we do that, we will wrap this code in a `for`-loop in order to perform the delta-hedge calculations for all the scenarios.  "
   ]
  },
  {
   "cell_type": "code",
   "execution_count": 20,
   "metadata": {},
   "outputs": [],
   "source": [
    "##> # creating the DataFrame\n",
    "##> df_path = \\\n",
    "##>     pd.DataFrame(\n",
    "##>         {'cp':cp,\n",
    "##>          'strike':strike,\n",
    "##>          'volatility':path_vol,\n",
    "##>          'upx':multiple_paths[:, 0], \n",
    "##>          't2x':np.linspace(tenor, 0, hedge_frequency + 1),\n",
    "##>          'buy_sell':1,\n",
    "##>         }       \n",
    "##>     )\n",
    "##> \n",
    "##> # calculating prices, greeks, and PNLs\n",
    "##> df_path['option_price'] = df_path[['cp', 'upx', 'strike', 't2x', 'volatility']].apply(bsm_px, axis = 1)\n",
    "##> df_path['delta'] = df_path[['cp', 'upx', 'strike', 't2x', 'volatility']].apply(bsm_delta, axis = 1)\n",
    "##> df_path['option_pnl'] = df_path['buy_sell'] * df_path['option_price'].diff()\n",
    "##> df_path['delta_hedge_pnl'] = -df_path['buy_sell'] * df_path['delta'].shift(1) * df_path['upx'].diff()\n",
    "##> df_path['total_pnl'] = df_path['option_pnl'] + df_path['delta_hedge_pnl']\n",
    "##> \n",
    "##> # viewing the path\n",
    "##> df_path\n",
    "\n",
    "\n"
   ]
  },
  {
   "cell_type": "markdown",
   "metadata": {},
   "source": [
    "Let's check the cumulative PNL for this scenario."
   ]
  },
  {
   "cell_type": "code",
   "execution_count": 21,
   "metadata": {},
   "outputs": [],
   "source": [
    "##> df_path['total_pnl'].sum()\n",
    "\n"
   ]
  },
  {
   "cell_type": "markdown",
   "metadata": {},
   "source": [
    "We can now generalize the above code and perform the delta-hedging calculations on each scenario.  We will save the calculations for each scenario to analyze."
   ]
  },
  {
   "cell_type": "code",
   "execution_count": 22,
   "metadata": {},
   "outputs": [],
   "source": [
    "##> lst_scenarios = []\n",
    "##> for ix_path in range(0, num_paths):\n",
    "##>     \n",
    "##>     # creating dataframe\n",
    "##>     df_path = \\\n",
    "##>         pd.DataFrame(\n",
    "##>             {'cp':cp,\n",
    "##>              'strike':strike,\n",
    "##>              'volatility':pricing_vol,\n",
    "##>              'upx':multiple_paths[:, ix_path], \n",
    "##>              't2x':np.linspace(tenor, 0, hedge_frequency + 1),\n",
    "##>              'buy_sell':buy_sell\n",
    "##>             }\n",
    "##>         )\n",
    "##>     \n",
    "##>     # calculating prices, greeks, and PNLs\n",
    "##>     df_path['option_price'] = df_path[['cp', 'upx', 'strike', 't2x', 'volatility']].apply(bsm_px, axis = 1)\n",
    "##>     df_path['delta'] = df_path[['cp', 'upx', 'strike', 't2x', 'volatility']].apply(bsm_delta, axis = 1)\n",
    "##>     df_path['option_pnl'] = df_path['buy_sell'] * df_path['option_price'].diff()\n",
    "##>     df_path['delta_hedge_pnl'] = -df_path['buy_sell'] * df_path['delta'].shift(1) * df_path['upx'].diff()\n",
    "##>     df_path['total_pnl'] = df_path['option_pnl'] + df_path['delta_hedge_pnl']\n",
    "##>     df_path['scenario'] = ix_path\n",
    "##>     \n",
    "##>     # storing df_path into a list\n",
    "##>     lst_scenarios.append(df_path)\n",
    "##> \n",
    "##> # creating a single DataFrame that contains all scenarios\n",
    "##> df_all_paths = pd.concat(lst_scenarios)\n",
    "##> \n",
    "##> # viewing the DataFrame\n",
    "##> df_all_paths\n",
    "\n",
    "\n"
   ]
  },
  {
   "cell_type": "markdown",
   "metadata": {},
   "source": [
    "Let's use a `.groupby()` to calculate the cummulative PNL for each scenario"
   ]
  },
  {
   "cell_type": "code",
   "execution_count": 23,
   "metadata": {},
   "outputs": [],
   "source": [
    "##> df_pnl = df_all_paths.groupby(['scenario'], as_index = False)[['total_pnl']].sum()\n",
    "##> df_pnl\n",
    "\n",
    "\n"
   ]
  },
  {
   "cell_type": "markdown",
   "metadata": {},
   "source": [
    "As we can see, the average of the `total_pnls` is zero, which further demonstrates the manufacturing result of the Black-Scholes-Merton framework."
   ]
  },
  {
   "cell_type": "code",
   "execution_count": 24,
   "metadata": {},
   "outputs": [],
   "source": [
    "##> df_pnl['total_pnl'].mean()\n",
    "\n"
   ]
  },
  {
   "cell_type": "markdown",
   "metadata": {},
   "source": [
    " "
   ]
  },
  {
   "cell_type": "markdown",
   "metadata": {},
   "source": [
    "**Discussion Queston:** If you sold this option for 0.25 more than fair-value, what would your average PNL be?"
   ]
  },
  {
   "cell_type": "code",
   "execution_count": null,
   "metadata": {},
   "outputs": [],
   "source": [
    "\n",
    "\n",
    "\n"
   ]
  },
  {
   "cell_type": "markdown",
   "metadata": {},
   "source": [
    " "
   ]
  },
  {
   "cell_type": "markdown",
   "metadata": {},
   "source": [
    "**Code Challenge:** Is the delta-hedging reducing risk?  Try to verify this with a bit of data analysis."
   ]
  },
  {
   "cell_type": "code",
   "execution_count": null,
   "metadata": {},
   "outputs": [],
   "source": [
    "\n",
    "\n",
    "\n",
    "\n"
   ]
  },
  {
   "cell_type": "markdown",
   "metadata": {},
   "source": [
    " "
   ]
  },
  {
   "cell_type": "markdown",
   "metadata": {},
   "source": [
    "**Code Challenge:** Calculate the standard deviation, minimum, and maximum of the cumulative PNLs."
   ]
  },
  {
   "cell_type": "code",
   "execution_count": null,
   "metadata": {},
   "outputs": [],
   "source": [
    "\n",
    "\n",
    "\n",
    "\n"
   ]
  },
  {
   "cell_type": "markdown",
   "metadata": {},
   "source": [
    "  "
   ]
  },
  {
   "cell_type": "markdown",
   "metadata": {},
   "source": [
    "## What If Realized Volatility is Different that Pricing Volatility?"
   ]
  },
  {
   "cell_type": "markdown",
   "metadata": {},
   "source": [
    "As we can see above, if the realized volatility of the underlying during the life of the option is equal to the pricing volatility, then the daily delta-hedging trader will break even on average (however, outcome can vary substantially depending on the scenario).\n",
    "\n",
    "In this section, we explore what happens when realized volatility differs from pricing volatility.  In particular, we will see what happens when a trader sells an option, delta-hedges daily, but the realized volatility is 5% higher than implied."
   ]
  },
  {
   "cell_type": "code",
   "execution_count": 25,
   "metadata": {},
   "outputs": [],
   "source": [
    "##> # setting simulation parameters\n",
    "##> buy_sell = -1\n",
    "##> cp = 'p'\n",
    "##> spot = 168.\n",
    "##> strike = 160.\n",
    "##> tenor = 24./252. # I want to generalize this\n",
    "##> option_price = 2.25\n",
    "##> pricing_vol = implied_volatility(price = option_price, S = spot, K = strike, t = tenor, r = 0, q = 0, flag = cp)\n",
    "##> path_vol = pricing_vol + 0.05\n",
    "##> hedge_frequency = 24\n",
    "##> dt = tenor / hedge_frequency  # I want to generalize this\n",
    "##> r = 0\n",
    "##> num_paths = 1000\n",
    "##> \n",
    "##> \n",
    "##> # initializing paths\n",
    "##> multiple_paths = np.zeros((hedge_frequency + 1, num_paths))\n",
    "##> multiple_paths[0] = spot\n",
    "##> \n",
    "##> # setting the random seed\n",
    "##> np.random.seed(1)\n",
    "##> \n",
    "##> # calculating paths\n",
    "##> for t in range(1, hedge_frequency + 1):\n",
    "##>     z = np.random.standard_normal(num_paths) \n",
    "##>     multiple_paths[t] = multiple_paths[t - 1] * np.exp((r - 0.5 * path_vol ** 2) * dt + path_vol * np.sqrt(dt) * z)\n",
    "##>     multiple_paths[t] = np.round(multiple_paths[t], 2)\n",
    "##> \n",
    "##> # performing delta-hedge calculations on all the paths\n",
    "##> lst_scenarios = []\n",
    "##> for ix_path in range(0, num_paths):\n",
    "##>     \n",
    "##>     # creating the DataFrame\n",
    "##>     df_path = \\\n",
    "##>         pd.DataFrame(\n",
    "##>             {'cp':cp,\n",
    "##>              'strike':strike,\n",
    "##>              'volatility':pricing_vol,\n",
    "##>              'upx':multiple_paths[:, ix_path], \n",
    "##>              't2x':np.linspace(tenor, 0, hedge_frequency + 1),\n",
    "##>              'buy_sell':buy_sell\n",
    "##>             }\n",
    "##>         )\n",
    "##>     \n",
    "##>     # calculating prices, greeks, and PNLs\n",
    "##>     df_path['option_price'] = df_path[['cp', 'upx', 'strike', 't2x', 'volatility']].apply(bsm_px, axis = 1)\n",
    "##>     df_path['delta'] = df_path[['cp', 'upx', 'strike', 't2x', 'volatility']].apply(bsm_delta, axis = 1)\n",
    "##>     df_path['option_pnl'] = df_path['buy_sell'] * df_path['option_price'].diff()\n",
    "##>     df_path['delta_hedge_pnl'] = -df_path['buy_sell'] * df_path['delta'].shift(1) * df_path['upx'].diff()\n",
    "##>     df_path['total_pnl'] = df_path['option_pnl'] + df_path['delta_hedge_pnl']\n",
    "##>     df_path['scenario'] = ix_path\n",
    "##>     \n",
    "##>     # storing df_path into a list\n",
    "##>     lst_scenarios.append(df_path)\n",
    "##>     \n",
    "##> # creating a single DataFrame that contains all scenarios    \n",
    "##> df_all_paths = pd.concat(lst_scenarios)\n",
    "##> \n",
    "##> # calculating cumulative PNLs\n",
    "##> df_pnl = df_all_paths.groupby(['scenario'], as_index = False)[['total_pnl']].sum()"
   ]
  },
  {
   "cell_type": "markdown",
   "metadata": {},
   "source": [
    "As we can see, since realized is greater than implied, we lose money on average."
   ]
  },
  {
   "cell_type": "code",
   "execution_count": 26,
   "metadata": {},
   "outputs": [],
   "source": [
    "##> df_pnl['total_pnl'].mean()"
   ]
  },
  {
   "cell_type": "markdown",
   "metadata": {},
   "source": [
    " "
   ]
  },
  {
   "cell_type": "markdown",
   "metadata": {},
   "source": [
    "**Code Challenge:** Use `bsm_vega` and verify that this PNL is consistent with the identity: $vega * (implied - realzed)$."
   ]
  },
  {
   "cell_type": "code",
   "execution_count": null,
   "metadata": {},
   "outputs": [],
   "source": [
    "\n",
    "\n",
    "\n",
    "\n"
   ]
  },
  {
   "cell_type": "markdown",
   "metadata": {},
   "source": [
    " "
   ]
  },
  {
   "cell_type": "markdown",
   "metadata": {},
   "source": [
    "## Increasing Delta-Hedge Frequency Reduces PNL Variability"
   ]
  },
  {
   "cell_type": "markdown",
   "metadata": {},
   "source": [
    "The BSM manufacturing framework states that in limit of continuous delta-hedging, that these results become deterministic.  The means that the delta-hedging outcomes are always the same for each scenario.  Your final code challenge is to explore this via data analysis."
   ]
  },
  {
   "cell_type": "markdown",
   "metadata": {},
   "source": [
    "**Code Challenge:** Copy and paste the above code, and see what happens to the dispersion of the distribution of the delta-hedge PNL outcomes when you double and quadruple the `hedge_frequency`."
   ]
  },
  {
   "cell_type": "code",
   "execution_count": null,
   "metadata": {},
   "outputs": [],
   "source": [
    "\n",
    "\n",
    "\n",
    "\n"
   ]
  }
 ],
 "metadata": {
  "kernelspec": {
   "display_name": "Python 3",
   "language": "python",
   "name": "python3"
  },
  "language_info": {
   "codemirror_mode": {
    "name": "ipython",
    "version": 3
   },
   "file_extension": ".py",
   "mimetype": "text/x-python",
   "name": "python",
   "nbconvert_exporter": "python",
   "pygments_lexer": "ipython3",
   "version": "3.7.3"
  }
 },
 "nbformat": 4,
 "nbformat_minor": 4
}
