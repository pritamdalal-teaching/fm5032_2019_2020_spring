{
 "cells": [
  {
   "cell_type": "code",
   "execution_count": 2,
   "metadata": {},
   "outputs": [],
   "source": [
    "import numpy as np\n",
    "import pandas as pd\n",
    "import pandas_datareader.data as web\n",
    "import matplotlib.pyplot as plt\n",
    "import statsmodels.tsa.statespace.sarimax as sarima\n",
    "import statsmodels.tools.eval_measures as fa\n",
    "import arch.univariate as arch"
   ]
  },
  {
   "cell_type": "code",
   "execution_count": 4,
   "metadata": {},
   "outputs": [],
   "source": [
    "# 2. Data Downloading or Reading\n",
    "\n",
    "# Yahoo Finance\n",
    "spx = web.DataReader('^GSPC', data_source='yahoo', start='2007-01-01', end='2018-06-30')\n",
    "vix = web.DataReader('^VIX', data_source='yahoo', start='2007-01-01', end='2018-06-30')\n",
    "spxohlc = spx[['Open', 'High', 'Low', 'Close']]\n",
    "spxohlc.columns = ['SPX.Open', 'SPX.High', 'SPX.Low', 'SPX.Close']\n",
    "vixc = vix['Close']\n",
    "hdata = spxohlc.join(vixc)\n",
    "hdata = hdata.dropna()\n",
    "hdata.columns = ['SPX.Open', 'SPX.High', 'SPX.Low', 'SPX.Close', 'VIX.Close']\n",
    "\n",
    "# Data Reading\n",
    "#hdata = pd.read_csv(\"Data//Volatility-Trading-Analysis-Data.txt\", index_col='Date', parse_dates=True)"
   ]
  },
  {
   "cell_type": "code",
   "execution_count": 6,
   "metadata": {},
   "outputs": [
    {
     "data": {
      "text/html": [
       "<div>\n",
       "<style scoped>\n",
       "    .dataframe tbody tr th:only-of-type {\n",
       "        vertical-align: middle;\n",
       "    }\n",
       "\n",
       "    .dataframe tbody tr th {\n",
       "        vertical-align: top;\n",
       "    }\n",
       "\n",
       "    .dataframe thead th {\n",
       "        text-align: right;\n",
       "    }\n",
       "</style>\n",
       "<table border=\"1\" class=\"dataframe\">\n",
       "  <thead>\n",
       "    <tr style=\"text-align: right;\">\n",
       "      <th></th>\n",
       "      <th>SPX.Open</th>\n",
       "      <th>SPX.High</th>\n",
       "      <th>SPX.Low</th>\n",
       "      <th>SPX.Close</th>\n",
       "      <th>VIX.Close</th>\n",
       "    </tr>\n",
       "    <tr>\n",
       "      <th>Date</th>\n",
       "      <th></th>\n",
       "      <th></th>\n",
       "      <th></th>\n",
       "      <th></th>\n",
       "      <th></th>\n",
       "    </tr>\n",
       "  </thead>\n",
       "  <tbody>\n",
       "    <tr>\n",
       "      <th>2007-01-03</th>\n",
       "      <td>1418.030029</td>\n",
       "      <td>1429.420044</td>\n",
       "      <td>1407.859985</td>\n",
       "      <td>1416.599976</td>\n",
       "      <td>12.04</td>\n",
       "    </tr>\n",
       "    <tr>\n",
       "      <th>2007-01-04</th>\n",
       "      <td>1416.599976</td>\n",
       "      <td>1421.839966</td>\n",
       "      <td>1408.430054</td>\n",
       "      <td>1418.339966</td>\n",
       "      <td>11.51</td>\n",
       "    </tr>\n",
       "    <tr>\n",
       "      <th>2007-01-05</th>\n",
       "      <td>1418.339966</td>\n",
       "      <td>1418.339966</td>\n",
       "      <td>1405.750000</td>\n",
       "      <td>1409.709961</td>\n",
       "      <td>12.14</td>\n",
       "    </tr>\n",
       "    <tr>\n",
       "      <th>2007-01-08</th>\n",
       "      <td>1409.260010</td>\n",
       "      <td>1414.979980</td>\n",
       "      <td>1403.969971</td>\n",
       "      <td>1412.839966</td>\n",
       "      <td>12.00</td>\n",
       "    </tr>\n",
       "    <tr>\n",
       "      <th>2007-01-09</th>\n",
       "      <td>1412.839966</td>\n",
       "      <td>1415.609985</td>\n",
       "      <td>1405.420044</td>\n",
       "      <td>1412.109985</td>\n",
       "      <td>11.91</td>\n",
       "    </tr>\n",
       "  </tbody>\n",
       "</table>\n",
       "</div>"
      ],
      "text/plain": [
       "               SPX.Open     SPX.High      SPX.Low    SPX.Close  VIX.Close\n",
       "Date                                                                     \n",
       "2007-01-03  1418.030029  1429.420044  1407.859985  1416.599976      12.04\n",
       "2007-01-04  1416.599976  1421.839966  1408.430054  1418.339966      11.51\n",
       "2007-01-05  1418.339966  1418.339966  1405.750000  1409.709961      12.14\n",
       "2007-01-08  1409.260010  1414.979980  1403.969971  1412.839966      12.00\n",
       "2007-01-09  1412.839966  1415.609985  1405.420044  1412.109985      11.91"
      ]
     },
     "execution_count": 6,
     "metadata": {},
     "output_type": "execute_result"
    }
   ],
   "source": [
    "hdata.head()"
   ]
  },
  {
   "cell_type": "code",
   "execution_count": 8,
   "metadata": {},
   "outputs": [
    {
     "name": "stdout",
     "output_type": "stream",
     "text": [
      "Iteration:      1,   Func. Count:      5,   Neg. LLF: 3584.67050567345\n",
      "Iteration:      2,   Func. Count:     12,   Neg. LLF: 3579.199655098204\n",
      "Iteration:      3,   Func. Count:     19,   Neg. LLF: 3578.134829217487\n",
      "Iteration:      4,   Func. Count:     25,   Neg. LLF: 3577.441231691666\n",
      "Iteration:      5,   Func. Count:     32,   Neg. LLF: 3577.3960714923924\n",
      "Iteration:      6,   Func. Count:     38,   Neg. LLF: 3577.0091128354957\n",
      "Iteration:      7,   Func. Count:     43,   Neg. LLF: 3576.9822088989295\n",
      "Iteration:      8,   Func. Count:     48,   Neg. LLF: 3576.98194930397\n",
      "Iteration:      9,   Func. Count:     53,   Neg. LLF: 3576.9819482656058\n",
      "Optimization terminated successfully.    (Exit mode 0)\n",
      "            Current function value: 3576.981948266075\n",
      "            Iterations: 9\n",
      "            Function evaluations: 53\n",
      "            Gradient evaluations: 9\n"
     ]
    }
   ],
   "source": [
    "rspx = (np.log(hdata.loc[:, 'SPX.Close'] / hdata.loc[:, 'SPX.Close'].shift(1))) * 100\n",
    "hgarchm = arch.ZeroMean(y=rspx.shift(21)['2007-01-03':'2016-12-30'].dropna(),\n",
    "                        volatility=arch.GARCH(p=1, o=0, q=1, power=2.0),\n",
    "                        distribution=arch.Normal()).fit()\n",
    "hgarchf = arch.ZeroMean(y=rspx.shift(21)['2017-01-03':'2018-06-29'].dropna(),\n",
    "                        volatility=arch.GARCH(p=1, o=0, q=1, power=2.0),\n",
    "                        distribution=arch.Normal()).fix(params=hgarchm.params)\n",
    "hgarchf = hgarchf.conditional_volatility*np.sqrt(252)"
   ]
  },
  {
   "cell_type": "code",
   "execution_count": 9,
   "metadata": {},
   "outputs": [
    {
     "data": {
      "text/plain": [
       "                       Zero Mean - GARCH Model Results                        \n",
       "==============================================================================\n",
       "Dep. Variable:              SPX.Close   R-squared:                       0.000\n",
       "Mean Model:                 Zero Mean   Adj. R-squared:                  0.000\n",
       "Vol Model:                      GARCH   Log-Likelihood:               -3576.98\n",
       "Distribution:                  Normal   AIC:                           7159.96\n",
       "Method:            Maximum Likelihood   BIC:                           7177.43\n",
       "                                        No. Observations:                 2496\n",
       "Date:                Wed, Apr 15 2020   Df Residuals:                     2493\n",
       "Time:                        15:29:42   Df Model:                            3\n",
       "                              Volatility Model                              \n",
       "============================================================================\n",
       "                 coef    std err          t      P>|t|      95.0% Conf. Int.\n",
       "----------------------------------------------------------------------------\n",
       "omega          0.0317  7.744e-03      4.094  4.231e-05 [1.653e-02,4.688e-02]\n",
       "alpha[1]       0.1168  1.666e-02      7.009  2.397e-12   [8.414e-02,  0.149]\n",
       "beta[1]        0.8595  1.640e-02     52.406      0.000     [  0.827,  0.892]\n",
       "============================================================================\n",
       "\n",
       "Covariance estimator: robust\n",
       "ARCHModelResult, id: 0x7f5d99c8a320"
      ]
     },
     "execution_count": 9,
     "metadata": {},
     "output_type": "execute_result"
    }
   ],
   "source": [
    "hgarchm"
   ]
  },
  {
   "cell_type": "code",
   "execution_count": null,
   "metadata": {},
   "outputs": [],
   "source": []
  }
 ],
 "metadata": {
  "kernelspec": {
   "display_name": "Python 3",
   "language": "python",
   "name": "python3"
  },
  "language_info": {
   "codemirror_mode": {
    "name": "ipython",
    "version": 3
   },
   "file_extension": ".py",
   "mimetype": "text/x-python",
   "name": "python",
   "nbconvert_exporter": "python",
   "pygments_lexer": "ipython3",
   "version": "3.7.3"
  }
 },
 "nbformat": 4,
 "nbformat_minor": 4
}
