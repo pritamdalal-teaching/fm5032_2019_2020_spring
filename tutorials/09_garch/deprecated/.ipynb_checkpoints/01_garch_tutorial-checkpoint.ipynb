{
 "cells": [
  {
   "cell_type": "code",
   "execution_count": 2,
   "metadata": {},
   "outputs": [],
   "source": [
    "import numpy as np\n",
    "import pandas as pd\n",
    "import pandas_datareader.data as web\n",
    "import matplotlib.pyplot as plt\n",
    "import statsmodels.tsa.statespace.sarimax as sarima\n",
    "import statsmodels.tools.eval_measures as fa\n",
    "import arch.univariate as arch"
   ]
  },
  {
   "cell_type": "code",
   "execution_count": 4,
   "metadata": {},
   "outputs": [],
   "source": [
    "# 2. Data Downloading or Reading\n",
    "\n",
    "# Yahoo Finance\n",
    "spx = web.DataReader('^GSPC', data_source='yahoo', start='2007-01-01', end='2018-06-30')\n",
    "vix = web.DataReader('^VIX', data_source='yahoo', start='2007-01-01', end='2018-06-30')\n",
    "spxohlc = spx[['Open', 'High', 'Low', 'Close']]\n",
    "spxohlc.columns = ['SPX.Open', 'SPX.High', 'SPX.Low', 'SPX.Close']\n",
    "vixc = vix['Close']\n",
    "hdata = spxohlc.join(vixc)\n",
    "hdata = hdata.dropna()\n",
    "hdata.columns = ['SPX.Open', 'SPX.High', 'SPX.Low', 'SPX.Close', 'VIX.Close']\n",
    "\n",
    "# Data Reading\n",
    "#hdata = pd.read_csv(\"Data//Volatility-Trading-Analysis-Data.txt\", index_col='Date', parse_dates=True)"
   ]
  },
  {
   "cell_type": "code",
   "execution_count": 6,
   "metadata": {},
   "outputs": [
    {
     "data": {
      "text/html": [
       "<div>\n",
       "<style scoped>\n",
       "    .dataframe tbody tr th:only-of-type {\n",
       "        vertical-align: middle;\n",
       "    }\n",
       "\n",
       "    .dataframe tbody tr th {\n",
       "        vertical-align: top;\n",
       "    }\n",
       "\n",
       "    .dataframe thead th {\n",
       "        text-align: right;\n",
       "    }\n",
       "</style>\n",
       "<table border=\"1\" class=\"dataframe\">\n",
       "  <thead>\n",
       "    <tr style=\"text-align: right;\">\n",
       "      <th></th>\n",
       "      <th>SPX.Open</th>\n",
       "      <th>SPX.High</th>\n",
       "      <th>SPX.Low</th>\n",
       "      <th>SPX.Close</th>\n",
       "      <th>VIX.Close</th>\n",
       "    </tr>\n",
       "    <tr>\n",
       "      <th>Date</th>\n",
       "      <th></th>\n",
       "      <th></th>\n",
       "      <th></th>\n",
       "      <th></th>\n",
       "      <th></th>\n",
       "    </tr>\n",
       "  </thead>\n",
       "  <tbody>\n",
       "    <tr>\n",
       "      <th>2007-01-03</th>\n",
       "      <td>1418.030029</td>\n",
       "      <td>1429.420044</td>\n",
       "      <td>1407.859985</td>\n",
       "      <td>1416.599976</td>\n",
       "      <td>12.04</td>\n",
       "    </tr>\n",
       "    <tr>\n",
       "      <th>2007-01-04</th>\n",
       "      <td>1416.599976</td>\n",
       "      <td>1421.839966</td>\n",
       "      <td>1408.430054</td>\n",
       "      <td>1418.339966</td>\n",
       "      <td>11.51</td>\n",
       "    </tr>\n",
       "    <tr>\n",
       "      <th>2007-01-05</th>\n",
       "      <td>1418.339966</td>\n",
       "      <td>1418.339966</td>\n",
       "      <td>1405.750000</td>\n",
       "      <td>1409.709961</td>\n",
       "      <td>12.14</td>\n",
       "    </tr>\n",
       "    <tr>\n",
       "      <th>2007-01-08</th>\n",
       "      <td>1409.260010</td>\n",
       "      <td>1414.979980</td>\n",
       "      <td>1403.969971</td>\n",
       "      <td>1412.839966</td>\n",
       "      <td>12.00</td>\n",
       "    </tr>\n",
       "    <tr>\n",
       "      <th>2007-01-09</th>\n",
       "      <td>1412.839966</td>\n",
       "      <td>1415.609985</td>\n",
       "      <td>1405.420044</td>\n",
       "      <td>1412.109985</td>\n",
       "      <td>11.91</td>\n",
       "    </tr>\n",
       "  </tbody>\n",
       "</table>\n",
       "</div>"
      ],
      "text/plain": [
       "               SPX.Open     SPX.High      SPX.Low    SPX.Close  VIX.Close\n",
       "Date                                                                     \n",
       "2007-01-03  1418.030029  1429.420044  1407.859985  1416.599976      12.04\n",
       "2007-01-04  1416.599976  1421.839966  1408.430054  1418.339966      11.51\n",
       "2007-01-05  1418.339966  1418.339966  1405.750000  1409.709961      12.14\n",
       "2007-01-08  1409.260010  1414.979980  1403.969971  1412.839966      12.00\n",
       "2007-01-09  1412.839966  1415.609985  1405.420044  1412.109985      11.91"
      ]
     },
     "execution_count": 6,
     "metadata": {},
     "output_type": "execute_result"
    }
   ],
   "source": [
    "hdata.head()"
   ]
  },
  {
   "cell_type": "code",
   "execution_count": null,
   "metadata": {},
   "outputs": [],
   "source": []
  }
 ],
 "metadata": {
  "kernelspec": {
   "display_name": "Python 3",
   "language": "python",
   "name": "python3"
  },
  "language_info": {
   "codemirror_mode": {
    "name": "ipython",
    "version": 3
   },
   "file_extension": ".py",
   "mimetype": "text/x-python",
   "name": "python",
   "nbconvert_exporter": "python",
   "pygments_lexer": "ipython3",
   "version": "3.7.3"
  }
 },
 "nbformat": 4,
 "nbformat_minor": 4
}
