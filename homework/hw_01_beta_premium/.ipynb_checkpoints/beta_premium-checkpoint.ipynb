{
 "cells": [
  {
   "cell_type": "markdown",
   "metadata": {},
   "source": [
    "## Homework: Testing for Positive Beta Premium in REITs"
   ]
  },
  {
   "cell_type": "markdown",
   "metadata": {},
   "source": [
    "In this homework, you will test for a positive beta premium in REIT markets, which means that you will test that the market as a whole provides a higher return than the risk free rate.  You will use an equal-weighted REIT portfolio to represent the REIT market (note that in tutorial 2 we used the market-cap weighted portfolio), and you will use the one-month treasury rate to represent the risk-free rate.  Here are the data sets that you will use:\n",
    "\n",
    "1. `DGS1MO.csv`: one-month treasury bills.\n",
    "2. `universe.csv`: set of names that you will use to construct the REIT market.\n",
    "3. `reit_px.csv`: daily prices for all REITs in the universe. \n",
    "\n",
    "Between the two data sources, you have enough data to test for the period 8/2001 - 12/2019.  As a hint, my calculations found that over this time period, the REIT market returned 13.29% per annum, while treasuries returned 1.32% per annum.\n",
    "\n",
    "The deliverable you turn in will be a Jupyter Note book in a zipped folder (the same way I deliver tutorials).  The folder should contain all data involved in the analysis.  The notebook should run from start to finish without any modification to the code.  If your notebook does not run correctly, you will be docked points in an amount proportional to the amount of inconvenience it takes to get it to run, or you may be required to resubmit your homework entirely, and it will be counted late, and will be docked points. I leave both these decisions entirely to the TAs disgression."
   ]
  }
 ],
 "metadata": {
  "kernelspec": {
   "display_name": "Python 3",
   "language": "python",
   "name": "python3"
  },
  "language_info": {
   "codemirror_mode": {
    "name": "ipython",
    "version": 3
   },
   "file_extension": ".py",
   "mimetype": "text/x-python",
   "name": "python",
   "nbconvert_exporter": "python",
   "pygments_lexer": "ipython3",
   "version": "3.7.3"
  }
 },
 "nbformat": 4,
 "nbformat_minor": 4
}
