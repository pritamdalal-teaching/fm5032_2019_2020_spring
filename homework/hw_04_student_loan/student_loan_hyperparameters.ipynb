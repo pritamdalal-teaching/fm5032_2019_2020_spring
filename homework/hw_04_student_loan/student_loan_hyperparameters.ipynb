{
 "cells": [
  {
   "cell_type": "markdown",
   "metadata": {},
   "source": [
    "# Hyperparameter Selection for Student Loan Prepayment Modeling"
   ]
  },
  {
   "cell_type": "markdown",
   "metadata": {},
   "source": [
    "This homework will involve modeling with the student loan data.  Our focus will be on using decision trees and random forests to predict loan prepayments.  \n",
    "\n",
    "1. (30 pts) Select subset of *six* of the features to include in your model.  Provide some analysis to justify why you chose to include those six.  Why are these the important features.  Why is it OK to leave out the others.  You will use your six features in the subsequent analysis.\n",
    "\n",
    "2. (85 pt) You will be assigned one hyperparameter of `DecisionTreeClassifier()`.  Read the `sklearn` documentation and write a one paragraph description of how this hyperparameter affects the algorithm.  Perform analysis to recommend an optimal value of your parameter.\n",
    "\n",
    "2. (85 pt) You will be assigned one hyperparameter of `RandomForestClassifier()`.  Read the `sklearn` documentation and write a one paragraph description of how this hyperparameter affects the algorithm.  Perform analysis to recommend an optimal value of your parameter."
   ]
  },
  {
   "cell_type": "markdown",
   "metadata": {},
   "source": [
    "### Additional Guidance\n",
    "\n",
    "1. These models can take a long time to run, so I would recommend getting started on this assignment early.\n",
    "\n",
    "1. Starting parameters for decision tree: `DecisionTree(max_depth = 10, random_state = 0)`\n",
    "\n",
    "1. Starting parameters for random forest: `RandomForestClassifier(n_estimators = 10, random_state = 0)`\n",
    "\n",
    "1. Use the 5-fold cross-validation versions of the following metrics: f1, expected-balance ratio, run-time.  Show some creativity by considering other metrics, or even better making up your own.\n",
    "\n",
    "1. Discuss the affect of the hyperparameters in the context of the variance-bias tradeoff.  Which values make the model more or less flexible?\n",
    "\n",
    "1. Part of your grade will be based on quality of communication. Your graphs should be readable and labeled.\n",
    "\n",
    "1. Your code should run without any intervention from the grader.  However, if you create intermediate data-sets that take a long time to run, these should be stored in CSVs so the grader can just read them into your Jupyter Notebook."
   ]
  }
 ],
 "metadata": {
  "kernelspec": {
   "display_name": "Python 3",
   "language": "python",
   "name": "python3"
  },
  "language_info": {
   "codemirror_mode": {
    "name": "ipython",
    "version": 3
   },
   "file_extension": ".py",
   "mimetype": "text/x-python",
   "name": "python",
   "nbconvert_exporter": "python",
   "pygments_lexer": "ipython3",
   "version": "3.7.3"
  }
 },
 "nbformat": 4,
 "nbformat_minor": 4
}
