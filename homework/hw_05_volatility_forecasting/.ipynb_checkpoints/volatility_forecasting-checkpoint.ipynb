{
 "cells": [
  {
   "cell_type": "markdown",
   "metadata": {},
   "source": [
    "# Volatility Forecasting"
   ]
  },
  {
   "cell_type": "markdown",
   "metadata": {},
   "source": [
    "In this homework, you will perform a comparative analysis of the various volatility forecasting methods we have discussed:\n",
    "\n",
    "1. close-to-close\n",
    "2. parkinson\n",
    "3. garman-klass\n",
    "4. rogers-sachell\n",
    "5. yang-zang\n",
    "6. garch(1, 1)\n",
    "\n",
    "Your analysis will include the 10 ETFs in `etf_universe.csv` that had the highest option volume in January of 2020.  Your project should include the following:\n",
    "\n",
    "1. You will determine the length of the backtest based on data availability, but it should be at least five years.  I should end in late April 2020 (up to current).  \n",
    "2. You will use Sepp's $R^2$ metric, and another metric of your choosing (or creation). Give a justification for your metric, and why it makes sense.\n",
    "3. For each underlying, the garch will probably take a few minutes to run, so I would suggest getting started on this first to make sure you have the data that you need.  Make sure to save your garch forecasts in a CSV, so the grader doesn't have to run code that takes a long time to finish.\n",
    "4. Your final conclusion will be your choice of forecast methodology if you were making investment decisions based on these forecasts.  Justify your answer with your analysis.\n",
    "5. Your analysis should include readable prose, and at least 1-2 visualizations.  You will be graded on quality of communication quality."
   ]
  },
  {
   "cell_type": "code",
   "execution_count": null,
   "metadata": {},
   "outputs": [],
   "source": []
  }
 ],
 "metadata": {
  "kernelspec": {
   "display_name": "Python 3",
   "language": "python",
   "name": "python3"
  },
  "language_info": {
   "codemirror_mode": {
    "name": "ipython",
    "version": 3
   },
   "file_extension": ".py",
   "mimetype": "text/x-python",
   "name": "python",
   "nbconvert_exporter": "python",
   "pygments_lexer": "ipython3",
   "version": "3.7.3"
  }
 },
 "nbformat": 4,
 "nbformat_minor": 4
}
