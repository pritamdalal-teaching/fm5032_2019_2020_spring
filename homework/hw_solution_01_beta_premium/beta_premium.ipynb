{
 "cells": [
  {
   "cell_type": "markdown",
   "metadata": {},
   "source": [
    "## Homework: Testing for Positive Beta Premium in REITs"
   ]
  },
  {
   "cell_type": "markdown",
   "metadata": {},
   "source": [
    "In this homework, you will test for a positive beta premium in REIT markets, which means that you will test that the market as a whole provides a higher return than the risk free rate.  You will use an equal-weighted REIT portfolio to represent the REIT market (note that in tutorial 2 we used the market-cap weighted portfolio), and you will use the one-month treasury rate to represent the risk-free rate.  Here are the data sets that you will use:\n",
    "\n",
    "1. `DGS1MO.csv`: one-month treasury bills.\n",
    "2. `universe.csv`: set of names that you will use to construct the REIT market.\n",
    "3. `reit_px.csv`: daily prices for all REITs in the universe. \n",
    "\n",
    "Between the two data sources, you have enough data to test for the period 8/2001 - 12/2019.  As a hint, my calculations found that over this time period, the REIT market returned 13.29% per annum, while treasuries returned 1.32% per annum.\n",
    "\n",
    "The deliverable you turn in will be a Jupyter Note book in a zipped folder (the same way I deliver tutorials).  The folder should contain all data involved in the analysis.  The notebook should run from start to finish without any modification to the code.  If your notebook does not run correctly, you will be docked points in an amount proportional to the amount of inconvenience it takes to get it to run, or you may be required to resubmit your homework entirely, and it will be counted late, and will be docked points. I leave both these decisions entirely to the TAs disgression."
   ]
  },
  {
   "cell_type": "markdown",
   "metadata": {},
   "source": [
    "## Load Packages"
   ]
  },
  {
   "cell_type": "code",
   "execution_count": 1,
   "metadata": {},
   "outputs": [],
   "source": [
    "import pandas as pd\n",
    "import numpy as np"
   ]
  },
  {
   "cell_type": "markdown",
   "metadata": {},
   "source": [
    "## Treasury Data"
   ]
  },
  {
   "cell_type": "code",
   "execution_count": 2,
   "metadata": {},
   "outputs": [
    {
     "data": {
      "text/html": [
       "<div>\n",
       "<style scoped>\n",
       "    .dataframe tbody tr th:only-of-type {\n",
       "        vertical-align: middle;\n",
       "    }\n",
       "\n",
       "    .dataframe tbody tr th {\n",
       "        vertical-align: top;\n",
       "    }\n",
       "\n",
       "    .dataframe thead th {\n",
       "        text-align: right;\n",
       "    }\n",
       "</style>\n",
       "<table border=\"1\" class=\"dataframe\">\n",
       "  <thead>\n",
       "    <tr style=\"text-align: right;\">\n",
       "      <th></th>\n",
       "      <th>DATE</th>\n",
       "      <th>DGS1MO</th>\n",
       "    </tr>\n",
       "  </thead>\n",
       "  <tbody>\n",
       "    <tr>\n",
       "      <th>0</th>\n",
       "      <td>2001-07-31</td>\n",
       "      <td>3.67</td>\n",
       "    </tr>\n",
       "    <tr>\n",
       "      <th>1</th>\n",
       "      <td>2001-08-01</td>\n",
       "      <td>3.65</td>\n",
       "    </tr>\n",
       "    <tr>\n",
       "      <th>2</th>\n",
       "      <td>2001-08-02</td>\n",
       "      <td>3.65</td>\n",
       "    </tr>\n",
       "    <tr>\n",
       "      <th>3</th>\n",
       "      <td>2001-08-03</td>\n",
       "      <td>3.63</td>\n",
       "    </tr>\n",
       "    <tr>\n",
       "      <th>4</th>\n",
       "      <td>2001-08-06</td>\n",
       "      <td>3.62</td>\n",
       "    </tr>\n",
       "  </tbody>\n",
       "</table>\n",
       "</div>"
      ],
      "text/plain": [
       "         DATE DGS1MO\n",
       "0  2001-07-31   3.67\n",
       "1  2001-08-01   3.65\n",
       "2  2001-08-02   3.65\n",
       "3  2001-08-03   3.63\n",
       "4  2001-08-06   3.62"
      ]
     },
     "execution_count": 2,
     "metadata": {},
     "output_type": "execute_result"
    }
   ],
   "source": [
    "df_rf = pd.read_csv('DGS1MO.csv')\n",
    "df_rf.head()"
   ]
  },
  {
   "cell_type": "markdown",
   "metadata": {},
   "source": [
    "As a matter of style, I prefer column names to be all lowercase."
   ]
  },
  {
   "cell_type": "code",
   "execution_count": 26,
   "metadata": {},
   "outputs": [],
   "source": [
    "df_rf.columns = df_rf.columns.str.lower()"
   ]
  },
  {
   "cell_type": "markdown",
   "metadata": {},
   "source": [
    "There are a couple of bad data points that I simply remove, this doesn't seem to cause issues with the analysis further down the line."
   ]
  },
  {
   "cell_type": "code",
   "execution_count": 27,
   "metadata": {},
   "outputs": [],
   "source": [
    "df_rf = df_rf[df_rf['dgs1mo'] != \".\"]"
   ]
  },
  {
   "cell_type": "markdown",
   "metadata": {},
   "source": [
    "Next, let's change data types for a couple of columns."
   ]
  },
  {
   "cell_type": "code",
   "execution_count": 28,
   "metadata": {},
   "outputs": [],
   "source": [
    "df_rf['dgs1mo'] = df_rf['dgs1mo'].astype(float)\n",
    "df_rf['date'] = pd.to_datetime(df_rf['date'])"
   ]
  },
  {
   "cell_type": "markdown",
   "metadata": {},
   "source": [
    "Let's extract the year and month from the `date` column for groupbing later."
   ]
  },
  {
   "cell_type": "code",
   "execution_count": 8,
   "metadata": {},
   "outputs": [],
   "source": [
    "df_rf['year'] = df_rf['date'].dt.year\n",
    "df_rf['month'] = df_rf['date'].dt.month"
   ]
  },
  {
   "cell_type": "markdown",
   "metadata": {},
   "source": [
    "For a given month, we will use the rate from the last day of the previous month."
   ]
  },
  {
   "cell_type": "code",
   "execution_count": 29,
   "metadata": {},
   "outputs": [
    {
     "data": {
      "text/html": [
       "<div>\n",
       "<style scoped>\n",
       "    .dataframe tbody tr th:only-of-type {\n",
       "        vertical-align: middle;\n",
       "    }\n",
       "\n",
       "    .dataframe tbody tr th {\n",
       "        vertical-align: top;\n",
       "    }\n",
       "\n",
       "    .dataframe thead th {\n",
       "        text-align: right;\n",
       "    }\n",
       "</style>\n",
       "<table border=\"1\" class=\"dataframe\">\n",
       "  <thead>\n",
       "    <tr style=\"text-align: right;\">\n",
       "      <th></th>\n",
       "      <th>year</th>\n",
       "      <th>month</th>\n",
       "      <th>date</th>\n",
       "      <th>as_of_date</th>\n",
       "    </tr>\n",
       "  </thead>\n",
       "  <tbody>\n",
       "    <tr>\n",
       "      <th>0</th>\n",
       "      <td>2001</td>\n",
       "      <td>7</td>\n",
       "      <td>2001-07-31</td>\n",
       "      <td>NaT</td>\n",
       "    </tr>\n",
       "    <tr>\n",
       "      <th>1</th>\n",
       "      <td>2001</td>\n",
       "      <td>8</td>\n",
       "      <td>2001-08-31</td>\n",
       "      <td>2001-07-31</td>\n",
       "    </tr>\n",
       "    <tr>\n",
       "      <th>2</th>\n",
       "      <td>2001</td>\n",
       "      <td>9</td>\n",
       "      <td>2001-09-28</td>\n",
       "      <td>2001-08-31</td>\n",
       "    </tr>\n",
       "    <tr>\n",
       "      <th>3</th>\n",
       "      <td>2001</td>\n",
       "      <td>10</td>\n",
       "      <td>2001-10-31</td>\n",
       "      <td>2001-09-28</td>\n",
       "    </tr>\n",
       "    <tr>\n",
       "      <th>4</th>\n",
       "      <td>2001</td>\n",
       "      <td>11</td>\n",
       "      <td>2001-11-30</td>\n",
       "      <td>2001-10-31</td>\n",
       "    </tr>\n",
       "  </tbody>\n",
       "</table>\n",
       "</div>"
      ],
      "text/plain": [
       "   year  month       date as_of_date\n",
       "0  2001      7 2001-07-31        NaT\n",
       "1  2001      8 2001-08-31 2001-07-31\n",
       "2  2001      9 2001-09-28 2001-08-31\n",
       "3  2001     10 2001-10-31 2001-09-28\n",
       "4  2001     11 2001-11-30 2001-10-31"
      ]
     },
     "execution_count": 29,
     "metadata": {},
     "output_type": "execute_result"
    }
   ],
   "source": [
    "df_bom_rf = df_rf.groupby(['year', 'month'])[['date']].max().reset_index()\n",
    "df_bom_rf['as_of_date'] = df_bom_rf['date'].shift()\n",
    "df_bom_rf.head()"
   ]
  },
  {
   "cell_type": "markdown",
   "metadata": {},
   "source": [
    "Let's remove the first month, which we don't have data for."
   ]
  },
  {
   "cell_type": "code",
   "execution_count": 12,
   "metadata": {},
   "outputs": [
    {
     "data": {
      "text/html": [
       "<div>\n",
       "<style scoped>\n",
       "    .dataframe tbody tr th:only-of-type {\n",
       "        vertical-align: middle;\n",
       "    }\n",
       "\n",
       "    .dataframe tbody tr th {\n",
       "        vertical-align: top;\n",
       "    }\n",
       "\n",
       "    .dataframe thead th {\n",
       "        text-align: right;\n",
       "    }\n",
       "</style>\n",
       "<table border=\"1\" class=\"dataframe\">\n",
       "  <thead>\n",
       "    <tr style=\"text-align: right;\">\n",
       "      <th></th>\n",
       "      <th>year</th>\n",
       "      <th>month</th>\n",
       "      <th>date</th>\n",
       "      <th>as_of_date</th>\n",
       "    </tr>\n",
       "  </thead>\n",
       "  <tbody>\n",
       "    <tr>\n",
       "      <th>1</th>\n",
       "      <td>2001</td>\n",
       "      <td>8</td>\n",
       "      <td>2001-08-31</td>\n",
       "      <td>2001-07-31</td>\n",
       "    </tr>\n",
       "    <tr>\n",
       "      <th>2</th>\n",
       "      <td>2001</td>\n",
       "      <td>9</td>\n",
       "      <td>2001-09-28</td>\n",
       "      <td>2001-08-31</td>\n",
       "    </tr>\n",
       "    <tr>\n",
       "      <th>3</th>\n",
       "      <td>2001</td>\n",
       "      <td>10</td>\n",
       "      <td>2001-10-31</td>\n",
       "      <td>2001-09-28</td>\n",
       "    </tr>\n",
       "    <tr>\n",
       "      <th>4</th>\n",
       "      <td>2001</td>\n",
       "      <td>11</td>\n",
       "      <td>2001-11-30</td>\n",
       "      <td>2001-10-31</td>\n",
       "    </tr>\n",
       "    <tr>\n",
       "      <th>5</th>\n",
       "      <td>2001</td>\n",
       "      <td>12</td>\n",
       "      <td>2001-12-31</td>\n",
       "      <td>2001-11-30</td>\n",
       "    </tr>\n",
       "  </tbody>\n",
       "</table>\n",
       "</div>"
      ],
      "text/plain": [
       "   year  month       date as_of_date\n",
       "1  2001      8 2001-08-31 2001-07-31\n",
       "2  2001      9 2001-09-28 2001-08-31\n",
       "3  2001     10 2001-10-31 2001-09-28\n",
       "4  2001     11 2001-11-30 2001-10-31\n",
       "5  2001     12 2001-12-31 2001-11-30"
      ]
     },
     "execution_count": 12,
     "metadata": {},
     "output_type": "execute_result"
    }
   ],
   "source": [
    "df_bom_rf = df_bom_rf.query('date != \"2001-07-31\"')\n",
    "df_bom_rf.head()"
   ]
  },
  {
   "cell_type": "markdown",
   "metadata": {},
   "source": [
    "Using a `.merge()` to grab the rate from the `as_of_date` of each month."
   ]
  },
  {
   "cell_type": "code",
   "execution_count": 30,
   "metadata": {},
   "outputs": [
    {
     "data": {
      "text/html": [
       "<div>\n",
       "<style scoped>\n",
       "    .dataframe tbody tr th:only-of-type {\n",
       "        vertical-align: middle;\n",
       "    }\n",
       "\n",
       "    .dataframe tbody tr th {\n",
       "        vertical-align: top;\n",
       "    }\n",
       "\n",
       "    .dataframe thead th {\n",
       "        text-align: right;\n",
       "    }\n",
       "</style>\n",
       "<table border=\"1\" class=\"dataframe\">\n",
       "  <thead>\n",
       "    <tr style=\"text-align: right;\">\n",
       "      <th></th>\n",
       "      <th>asset</th>\n",
       "      <th>year</th>\n",
       "      <th>month</th>\n",
       "      <th>month_ret</th>\n",
       "    </tr>\n",
       "  </thead>\n",
       "  <tbody>\n",
       "    <tr>\n",
       "      <th>0</th>\n",
       "      <td>risk_free</td>\n",
       "      <td>2001</td>\n",
       "      <td>8</td>\n",
       "      <td>0.003058</td>\n",
       "    </tr>\n",
       "    <tr>\n",
       "      <th>1</th>\n",
       "      <td>risk_free</td>\n",
       "      <td>2001</td>\n",
       "      <td>9</td>\n",
       "      <td>0.002833</td>\n",
       "    </tr>\n",
       "    <tr>\n",
       "      <th>2</th>\n",
       "      <td>risk_free</td>\n",
       "      <td>2001</td>\n",
       "      <td>10</td>\n",
       "      <td>0.001900</td>\n",
       "    </tr>\n",
       "    <tr>\n",
       "      <th>3</th>\n",
       "      <td>risk_free</td>\n",
       "      <td>2001</td>\n",
       "      <td>11</td>\n",
       "      <td>0.001792</td>\n",
       "    </tr>\n",
       "    <tr>\n",
       "      <th>4</th>\n",
       "      <td>risk_free</td>\n",
       "      <td>2001</td>\n",
       "      <td>12</td>\n",
       "      <td>0.001558</td>\n",
       "    </tr>\n",
       "  </tbody>\n",
       "</table>\n",
       "</div>"
      ],
      "text/plain": [
       "       asset  year  month  month_ret\n",
       "0  risk_free  2001      8   0.003058\n",
       "1  risk_free  2001      9   0.002833\n",
       "2  risk_free  2001     10   0.001900\n",
       "3  risk_free  2001     11   0.001792\n",
       "4  risk_free  2001     12   0.001558"
      ]
     },
     "execution_count": 30,
     "metadata": {},
     "output_type": "execute_result"
    }
   ],
   "source": [
    "df_1m_treasury = \\\n",
    "    (\n",
    "    df_bom_rf[['year', 'month', 'as_of_date']]\n",
    "        .merge(df_rf[['date', 'dgs1mo']], left_on='as_of_date', right_on = 'date')\n",
    "        .assign(month_ret = lambda df: df.dgs1mo / 100 / 12) # rates are given in annual terms, so we divide by 12\n",
    "        .assign(asset = 'risk_free')\n",
    "        .query('year < 2020') # our REIT price data does not include 2020\n",
    "        [['asset', 'year', 'month', 'month_ret']]\n",
    "    )\n",
    "df_1m_treasury.head()"
   ]
  },
  {
   "cell_type": "markdown",
   "metadata": {},
   "source": [
    "## REIT Data"
   ]
  },
  {
   "cell_type": "markdown",
   "metadata": {},
   "source": [
    "We begin by reading-in the universe."
   ]
  },
  {
   "cell_type": "code",
   "execution_count": 14,
   "metadata": {},
   "outputs": [
    {
     "data": {
      "text/html": [
       "<div>\n",
       "<style scoped>\n",
       "    .dataframe tbody tr th:only-of-type {\n",
       "        vertical-align: middle;\n",
       "    }\n",
       "\n",
       "    .dataframe tbody tr th {\n",
       "        vertical-align: top;\n",
       "    }\n",
       "\n",
       "    .dataframe thead th {\n",
       "        text-align: right;\n",
       "    }\n",
       "</style>\n",
       "<table border=\"1\" class=\"dataframe\">\n",
       "  <thead>\n",
       "    <tr style=\"text-align: right;\">\n",
       "      <th></th>\n",
       "      <th>symbol</th>\n",
       "      <th>reit_name</th>\n",
       "      <th>type</th>\n",
       "      <th>sector</th>\n",
       "    </tr>\n",
       "  </thead>\n",
       "  <tbody>\n",
       "    <tr>\n",
       "      <th>0</th>\n",
       "      <td>ANH</td>\n",
       "      <td>Anworth Mortgage Asset Corporation</td>\n",
       "      <td>Mortgage REIT</td>\n",
       "      <td>Mortgage</td>\n",
       "    </tr>\n",
       "    <tr>\n",
       "      <th>1</th>\n",
       "      <td>BXMT</td>\n",
       "      <td>Blackstone Mortgage Trust, Inc.</td>\n",
       "      <td>Mortgage REIT</td>\n",
       "      <td>Mortgage</td>\n",
       "    </tr>\n",
       "    <tr>\n",
       "      <th>2</th>\n",
       "      <td>CMO</td>\n",
       "      <td>Capstead Mortgage Corporation</td>\n",
       "      <td>Mortgage REIT</td>\n",
       "      <td>Mortgage</td>\n",
       "    </tr>\n",
       "    <tr>\n",
       "      <th>3</th>\n",
       "      <td>DX</td>\n",
       "      <td>Dynex Capital, Inc.</td>\n",
       "      <td>Mortgage REIT</td>\n",
       "      <td>Mortgage</td>\n",
       "    </tr>\n",
       "    <tr>\n",
       "      <th>4</th>\n",
       "      <td>MFA</td>\n",
       "      <td>MFA Mortgage Investments, Inc.</td>\n",
       "      <td>Mortgage REIT</td>\n",
       "      <td>Mortgage</td>\n",
       "    </tr>\n",
       "  </tbody>\n",
       "</table>\n",
       "</div>"
      ],
      "text/plain": [
       "  symbol                           reit_name           type    sector\n",
       "0    ANH  Anworth Mortgage Asset Corporation  Mortgage REIT  Mortgage\n",
       "1   BXMT     Blackstone Mortgage Trust, Inc.  Mortgage REIT  Mortgage\n",
       "2    CMO       Capstead Mortgage Corporation  Mortgage REIT  Mortgage\n",
       "3     DX                 Dynex Capital, Inc.  Mortgage REIT  Mortgage\n",
       "4    MFA      MFA Mortgage Investments, Inc.  Mortgage REIT  Mortgage"
      ]
     },
     "execution_count": 14,
     "metadata": {},
     "output_type": "execute_result"
    }
   ],
   "source": [
    "df_universe = pd.read_csv('universe.csv')\n",
    "df_universe = df_universe[['symbol', 'reit_name', 'type', 'sector']]\n",
    "df_universe.head()"
   ]
  },
  {
   "cell_type": "markdown",
   "metadata": {},
   "source": [
    "Next, let's read-in the price data."
   ]
  },
  {
   "cell_type": "code",
   "execution_count": 15,
   "metadata": {},
   "outputs": [
    {
     "data": {
      "text/html": [
       "<div>\n",
       "<style scoped>\n",
       "    .dataframe tbody tr th:only-of-type {\n",
       "        vertical-align: middle;\n",
       "    }\n",
       "\n",
       "    .dataframe tbody tr th {\n",
       "        vertical-align: top;\n",
       "    }\n",
       "\n",
       "    .dataframe thead th {\n",
       "        text-align: right;\n",
       "    }\n",
       "</style>\n",
       "<table border=\"1\" class=\"dataframe\">\n",
       "  <thead>\n",
       "    <tr style=\"text-align: right;\">\n",
       "      <th></th>\n",
       "      <th>date</th>\n",
       "      <th>open</th>\n",
       "      <th>high</th>\n",
       "      <th>low</th>\n",
       "      <th>close</th>\n",
       "      <th>volume</th>\n",
       "      <th>adjusted</th>\n",
       "      <th>ticker</th>\n",
       "    </tr>\n",
       "  </thead>\n",
       "  <tbody>\n",
       "    <tr>\n",
       "      <th>0</th>\n",
       "      <td>2004-04-07</td>\n",
       "      <td>20.049999</td>\n",
       "      <td>20.600000</td>\n",
       "      <td>20.049999</td>\n",
       "      <td>20.50</td>\n",
       "      <td>3707500.0</td>\n",
       "      <td>6.464799</td>\n",
       "      <td>ABR</td>\n",
       "    </tr>\n",
       "    <tr>\n",
       "      <th>1</th>\n",
       "      <td>2004-04-08</td>\n",
       "      <td>20.500000</td>\n",
       "      <td>20.500000</td>\n",
       "      <td>20.360001</td>\n",
       "      <td>20.43</td>\n",
       "      <td>301200.0</td>\n",
       "      <td>6.442722</td>\n",
       "      <td>ABR</td>\n",
       "    </tr>\n",
       "    <tr>\n",
       "      <th>2</th>\n",
       "      <td>2004-04-12</td>\n",
       "      <td>20.450001</td>\n",
       "      <td>20.450001</td>\n",
       "      <td>19.420000</td>\n",
       "      <td>19.52</td>\n",
       "      <td>852900.0</td>\n",
       "      <td>6.155750</td>\n",
       "      <td>ABR</td>\n",
       "    </tr>\n",
       "    <tr>\n",
       "      <th>3</th>\n",
       "      <td>2004-04-13</td>\n",
       "      <td>19.510000</td>\n",
       "      <td>19.549999</td>\n",
       "      <td>19.350000</td>\n",
       "      <td>19.51</td>\n",
       "      <td>226800.0</td>\n",
       "      <td>6.152596</td>\n",
       "      <td>ABR</td>\n",
       "    </tr>\n",
       "    <tr>\n",
       "      <th>4</th>\n",
       "      <td>2004-04-14</td>\n",
       "      <td>19.400000</td>\n",
       "      <td>19.480000</td>\n",
       "      <td>19.400000</td>\n",
       "      <td>19.43</td>\n",
       "      <td>143900.0</td>\n",
       "      <td>6.127368</td>\n",
       "      <td>ABR</td>\n",
       "    </tr>\n",
       "  </tbody>\n",
       "</table>\n",
       "</div>"
      ],
      "text/plain": [
       "        date       open       high        low  close     volume  adjusted  \\\n",
       "0 2004-04-07  20.049999  20.600000  20.049999  20.50  3707500.0  6.464799   \n",
       "1 2004-04-08  20.500000  20.500000  20.360001  20.43   301200.0  6.442722   \n",
       "2 2004-04-12  20.450001  20.450001  19.420000  19.52   852900.0  6.155750   \n",
       "3 2004-04-13  19.510000  19.549999  19.350000  19.51   226800.0  6.152596   \n",
       "4 2004-04-14  19.400000  19.480000  19.400000  19.43   143900.0  6.127368   \n",
       "\n",
       "  ticker  \n",
       "0    ABR  \n",
       "1    ABR  \n",
       "2    ABR  \n",
       "3    ABR  \n",
       "4    ABR  "
      ]
     },
     "execution_count": 15,
     "metadata": {},
     "output_type": "execute_result"
    }
   ],
   "source": [
    "df_px_all = pd.read_csv('reit_px.csv')\n",
    "df_px_all['date'] = pd.to_datetime(df_px_all['date'])\n",
    "df_px_all.head()"
   ]
  },
  {
   "cell_type": "markdown",
   "metadata": {},
   "source": [
    "There is more data in `df_px_all` than we will need, so let's filter this down using various means."
   ]
  },
  {
   "cell_type": "code",
   "execution_count": 16,
   "metadata": {},
   "outputs": [
    {
     "data": {
      "text/html": [
       "<div>\n",
       "<style scoped>\n",
       "    .dataframe tbody tr th:only-of-type {\n",
       "        vertical-align: middle;\n",
       "    }\n",
       "\n",
       "    .dataframe tbody tr th {\n",
       "        vertical-align: top;\n",
       "    }\n",
       "\n",
       "    .dataframe thead th {\n",
       "        text-align: right;\n",
       "    }\n",
       "</style>\n",
       "<table border=\"1\" class=\"dataframe\">\n",
       "  <thead>\n",
       "    <tr style=\"text-align: right;\">\n",
       "      <th></th>\n",
       "      <th>symbol</th>\n",
       "      <th>year</th>\n",
       "      <th>month</th>\n",
       "      <th>date</th>\n",
       "      <th>close</th>\n",
       "      <th>adjusted</th>\n",
       "    </tr>\n",
       "  </thead>\n",
       "  <tbody>\n",
       "    <tr>\n",
       "      <th>74050</th>\n",
       "      <td>ADC</td>\n",
       "      <td>1998</td>\n",
       "      <td>12</td>\n",
       "      <td>1998-12-31</td>\n",
       "      <td>18.5000</td>\n",
       "      <td>4.091326</td>\n",
       "    </tr>\n",
       "    <tr>\n",
       "      <th>74051</th>\n",
       "      <td>ADC</td>\n",
       "      <td>1999</td>\n",
       "      <td>1</td>\n",
       "      <td>1999-01-04</td>\n",
       "      <td>18.2500</td>\n",
       "      <td>4.036036</td>\n",
       "    </tr>\n",
       "    <tr>\n",
       "      <th>74052</th>\n",
       "      <td>ADC</td>\n",
       "      <td>1999</td>\n",
       "      <td>1</td>\n",
       "      <td>1999-01-05</td>\n",
       "      <td>17.7500</td>\n",
       "      <td>3.925461</td>\n",
       "    </tr>\n",
       "    <tr>\n",
       "      <th>74053</th>\n",
       "      <td>ADC</td>\n",
       "      <td>1999</td>\n",
       "      <td>1</td>\n",
       "      <td>1999-01-06</td>\n",
       "      <td>17.6875</td>\n",
       "      <td>3.911640</td>\n",
       "    </tr>\n",
       "    <tr>\n",
       "      <th>74054</th>\n",
       "      <td>ADC</td>\n",
       "      <td>1999</td>\n",
       "      <td>1</td>\n",
       "      <td>1999-01-07</td>\n",
       "      <td>17.7500</td>\n",
       "      <td>3.925461</td>\n",
       "    </tr>\n",
       "  </tbody>\n",
       "</table>\n",
       "</div>"
      ],
      "text/plain": [
       "      symbol  year  month       date    close  adjusted\n",
       "74050    ADC  1998     12 1998-12-31  18.5000  4.091326\n",
       "74051    ADC  1999      1 1999-01-04  18.2500  4.036036\n",
       "74052    ADC  1999      1 1999-01-05  17.7500  3.925461\n",
       "74053    ADC  1999      1 1999-01-06  17.6875  3.911640\n",
       "74054    ADC  1999      1 1999-01-07  17.7500  3.925461"
      ]
     },
     "execution_count": 16,
     "metadata": {},
     "output_type": "execute_result"
    }
   ],
   "source": [
    "df_px = \\\n",
    "    (\n",
    "    df_px_all\n",
    "        .merge(df_universe[['symbol']], right_on = 'symbol', left_on = 'ticker') # limiting to tickers in our universe\n",
    "        .query('date >= \"1998-12-31\"') # limiting date range\n",
    "        .query('date < \"2020-01-01\"')  # limiting date range\n",
    "        .assign(year = lambda df: df.date.dt.year) # pulling out year for grouping later\n",
    "        .assign(month = lambda df: df.date.dt.month) # pulling out month for grouping later\n",
    "        [['symbol', 'year', 'month', 'date', 'close', 'adjusted']] # keeping only the columns we need\n",
    "        .sort_values(['symbol', 'year', 'month']) # sorting to make sure our returns calculations are correct\n",
    "    )\n",
    "df_px.head()"
   ]
  },
  {
   "cell_type": "markdown",
   "metadata": {},
   "source": [
    "It will be easiest for us to calculate monthly returns from daily returns. Therefore, we will next calculate daily returns for each `symbol` using a `groupby()`."
   ]
  },
  {
   "cell_type": "code",
   "execution_count": 17,
   "metadata": {},
   "outputs": [
    {
     "data": {
      "text/html": [
       "<div>\n",
       "<style scoped>\n",
       "    .dataframe tbody tr th:only-of-type {\n",
       "        vertical-align: middle;\n",
       "    }\n",
       "\n",
       "    .dataframe tbody tr th {\n",
       "        vertical-align: top;\n",
       "    }\n",
       "\n",
       "    .dataframe thead th {\n",
       "        text-align: right;\n",
       "    }\n",
       "</style>\n",
       "<table border=\"1\" class=\"dataframe\">\n",
       "  <thead>\n",
       "    <tr style=\"text-align: right;\">\n",
       "      <th></th>\n",
       "      <th>symbol</th>\n",
       "      <th>year</th>\n",
       "      <th>month</th>\n",
       "      <th>date</th>\n",
       "      <th>close</th>\n",
       "      <th>adjusted</th>\n",
       "      <th>dly_ret</th>\n",
       "    </tr>\n",
       "  </thead>\n",
       "  <tbody>\n",
       "    <tr>\n",
       "      <th>74050</th>\n",
       "      <td>ADC</td>\n",
       "      <td>1998</td>\n",
       "      <td>12</td>\n",
       "      <td>1998-12-31</td>\n",
       "      <td>18.5000</td>\n",
       "      <td>4.091326</td>\n",
       "      <td>NaN</td>\n",
       "    </tr>\n",
       "    <tr>\n",
       "      <th>74051</th>\n",
       "      <td>ADC</td>\n",
       "      <td>1999</td>\n",
       "      <td>1</td>\n",
       "      <td>1999-01-04</td>\n",
       "      <td>18.2500</td>\n",
       "      <td>4.036036</td>\n",
       "      <td>-0.013514</td>\n",
       "    </tr>\n",
       "    <tr>\n",
       "      <th>74052</th>\n",
       "      <td>ADC</td>\n",
       "      <td>1999</td>\n",
       "      <td>1</td>\n",
       "      <td>1999-01-05</td>\n",
       "      <td>17.7500</td>\n",
       "      <td>3.925461</td>\n",
       "      <td>-0.027397</td>\n",
       "    </tr>\n",
       "    <tr>\n",
       "      <th>74053</th>\n",
       "      <td>ADC</td>\n",
       "      <td>1999</td>\n",
       "      <td>1</td>\n",
       "      <td>1999-01-06</td>\n",
       "      <td>17.6875</td>\n",
       "      <td>3.911640</td>\n",
       "      <td>-0.003521</td>\n",
       "    </tr>\n",
       "    <tr>\n",
       "      <th>74054</th>\n",
       "      <td>ADC</td>\n",
       "      <td>1999</td>\n",
       "      <td>1</td>\n",
       "      <td>1999-01-07</td>\n",
       "      <td>17.7500</td>\n",
       "      <td>3.925461</td>\n",
       "      <td>0.003533</td>\n",
       "    </tr>\n",
       "  </tbody>\n",
       "</table>\n",
       "</div>"
      ],
      "text/plain": [
       "      symbol  year  month       date    close  adjusted   dly_ret\n",
       "74050    ADC  1998     12 1998-12-31  18.5000  4.091326       NaN\n",
       "74051    ADC  1999      1 1999-01-04  18.2500  4.036036 -0.013514\n",
       "74052    ADC  1999      1 1999-01-05  17.7500  3.925461 -0.027397\n",
       "74053    ADC  1999      1 1999-01-06  17.6875  3.911640 -0.003521\n",
       "74054    ADC  1999      1 1999-01-07  17.7500  3.925461  0.003533"
      ]
     },
     "execution_count": 17,
     "metadata": {},
     "output_type": "execute_result"
    }
   ],
   "source": [
    "df_px['dly_ret'] = df_px.groupby(['symbol'])['adjusted'].pct_change()\n",
    "df_px.head()"
   ]
  },
  {
   "cell_type": "markdown",
   "metadata": {},
   "source": [
    "In order to calculate multi-day returns from single day returns, we will need the following user-defined function."
   ]
  },
  {
   "cell_type": "code",
   "execution_count": 18,
   "metadata": {},
   "outputs": [],
   "source": [
    "def cum_ret(ret):\n",
    "    return(np.prod(1 + ret) - 1)"
   ]
  },
  {
   "cell_type": "markdown",
   "metadata": {},
   "source": [
    "With the `cum_ret()` function created, let's now calculate the monthly returns from the daily returns by again using the `groupby()` function."
   ]
  },
  {
   "cell_type": "code",
   "execution_count": 19,
   "metadata": {},
   "outputs": [
    {
     "data": {
      "text/html": [
       "<div>\n",
       "<style scoped>\n",
       "    .dataframe tbody tr th:only-of-type {\n",
       "        vertical-align: middle;\n",
       "    }\n",
       "\n",
       "    .dataframe tbody tr th {\n",
       "        vertical-align: top;\n",
       "    }\n",
       "\n",
       "    .dataframe thead th {\n",
       "        text-align: right;\n",
       "    }\n",
       "</style>\n",
       "<table border=\"1\" class=\"dataframe\">\n",
       "  <thead>\n",
       "    <tr style=\"text-align: right;\">\n",
       "      <th></th>\n",
       "      <th>year</th>\n",
       "      <th>month</th>\n",
       "      <th>symbol</th>\n",
       "      <th>month_ret</th>\n",
       "    </tr>\n",
       "  </thead>\n",
       "  <tbody>\n",
       "    <tr>\n",
       "      <th>0</th>\n",
       "      <td>1999</td>\n",
       "      <td>1</td>\n",
       "      <td>ADC</td>\n",
       "      <td>-0.054054</td>\n",
       "    </tr>\n",
       "    <tr>\n",
       "      <th>1</th>\n",
       "      <td>1999</td>\n",
       "      <td>1</td>\n",
       "      <td>AI</td>\n",
       "      <td>-0.019231</td>\n",
       "    </tr>\n",
       "    <tr>\n",
       "      <th>2</th>\n",
       "      <td>1999</td>\n",
       "      <td>1</td>\n",
       "      <td>AIV</td>\n",
       "      <td>-0.001681</td>\n",
       "    </tr>\n",
       "    <tr>\n",
       "      <th>3</th>\n",
       "      <td>1999</td>\n",
       "      <td>1</td>\n",
       "      <td>AKR</td>\n",
       "      <td>-0.023810</td>\n",
       "    </tr>\n",
       "    <tr>\n",
       "      <th>4</th>\n",
       "      <td>1999</td>\n",
       "      <td>1</td>\n",
       "      <td>ALX</td>\n",
       "      <td>-0.078337</td>\n",
       "    </tr>\n",
       "  </tbody>\n",
       "</table>\n",
       "</div>"
      ],
      "text/plain": [
       "   year  month symbol  month_ret\n",
       "0  1999      1    ADC  -0.054054\n",
       "1  1999      1     AI  -0.019231\n",
       "2  1999      1    AIV  -0.001681\n",
       "3  1999      1    AKR  -0.023810\n",
       "4  1999      1    ALX  -0.078337"
      ]
     },
     "execution_count": 19,
     "metadata": {},
     "output_type": "execute_result"
    }
   ],
   "source": [
    "df_month_ret = \\\n",
    "    (\n",
    "    df_px\n",
    "        .query('year > 1998')\n",
    "        .groupby(['year', 'month', 'symbol'])[['dly_ret']].agg(cum_ret)\n",
    "        .reset_index()\n",
    "        .rename(columns={'dly_ret':'month_ret'})\n",
    "    )\n",
    "df_month_ret.head()"
   ]
  },
  {
   "cell_type": "markdown",
   "metadata": {},
   "source": [
    "We can now calculate monthly return of the equal-weighted portfolio, which is simple the `.mean()` of the monthly returns of the individual REITs."
   ]
  },
  {
   "cell_type": "code",
   "execution_count": 20,
   "metadata": {},
   "outputs": [
    {
     "data": {
      "text/html": [
       "<div>\n",
       "<style scoped>\n",
       "    .dataframe tbody tr th:only-of-type {\n",
       "        vertical-align: middle;\n",
       "    }\n",
       "\n",
       "    .dataframe tbody tr th {\n",
       "        vertical-align: top;\n",
       "    }\n",
       "\n",
       "    .dataframe thead th {\n",
       "        text-align: right;\n",
       "    }\n",
       "</style>\n",
       "<table border=\"1\" class=\"dataframe\">\n",
       "  <thead>\n",
       "    <tr style=\"text-align: right;\">\n",
       "      <th></th>\n",
       "      <th>asset</th>\n",
       "      <th>year</th>\n",
       "      <th>month</th>\n",
       "      <th>month_ret</th>\n",
       "    </tr>\n",
       "  </thead>\n",
       "  <tbody>\n",
       "    <tr>\n",
       "      <th>32</th>\n",
       "      <td>reit_mkt_eqw</td>\n",
       "      <td>2001</td>\n",
       "      <td>9</td>\n",
       "      <td>-0.013307</td>\n",
       "    </tr>\n",
       "    <tr>\n",
       "      <th>33</th>\n",
       "      <td>reit_mkt_eqw</td>\n",
       "      <td>2001</td>\n",
       "      <td>10</td>\n",
       "      <td>0.003374</td>\n",
       "    </tr>\n",
       "    <tr>\n",
       "      <th>34</th>\n",
       "      <td>reit_mkt_eqw</td>\n",
       "      <td>2001</td>\n",
       "      <td>11</td>\n",
       "      <td>0.031865</td>\n",
       "    </tr>\n",
       "    <tr>\n",
       "      <th>35</th>\n",
       "      <td>reit_mkt_eqw</td>\n",
       "      <td>2001</td>\n",
       "      <td>12</td>\n",
       "      <td>0.042843</td>\n",
       "    </tr>\n",
       "    <tr>\n",
       "      <th>36</th>\n",
       "      <td>reit_mkt_eqw</td>\n",
       "      <td>2002</td>\n",
       "      <td>1</td>\n",
       "      <td>0.024740</td>\n",
       "    </tr>\n",
       "  </tbody>\n",
       "</table>\n",
       "</div>"
      ],
      "text/plain": [
       "           asset  year  month  month_ret\n",
       "32  reit_mkt_eqw  2001      9  -0.013307\n",
       "33  reit_mkt_eqw  2001     10   0.003374\n",
       "34  reit_mkt_eqw  2001     11   0.031865\n",
       "35  reit_mkt_eqw  2001     12   0.042843\n",
       "36  reit_mkt_eqw  2002      1   0.024740"
      ]
     },
     "execution_count": 20,
     "metadata": {},
     "output_type": "execute_result"
    }
   ],
   "source": [
    "df_reit_mkt_eqw = \\\n",
    "    (\n",
    "    df_month_ret\n",
    "        .groupby(['year', 'month']).mean().reset_index()\n",
    "        .assign(asset = 'reit_mkt_eqw')\n",
    "        .assign(year_month = lambda df: (df.year * 100) + df.month)\n",
    "        .query('year_month >= 200109')\n",
    "        [['asset', 'year', 'month', 'month_ret']]\n",
    "    )\n",
    "df_reit_mkt_eqw.head()"
   ]
  },
  {
   "cell_type": "markdown",
   "metadata": {},
   "source": [
    "## Annualized Return"
   ]
  },
  {
   "cell_type": "markdown",
   "metadata": {},
   "source": [
    "We can now calculate the annualized return of our two assets. As you can see, over this time period, the REIT market to return 13.29% per annum, while treasuries returned 1.32% per annum."
   ]
  },
  {
   "cell_type": "code",
   "execution_count": 24,
   "metadata": {},
   "outputs": [
    {
     "data": {
      "text/html": [
       "<div>\n",
       "<style scoped>\n",
       "    .dataframe tbody tr th:only-of-type {\n",
       "        vertical-align: middle;\n",
       "    }\n",
       "\n",
       "    .dataframe tbody tr th {\n",
       "        vertical-align: top;\n",
       "    }\n",
       "\n",
       "    .dataframe thead th {\n",
       "        text-align: right;\n",
       "    }\n",
       "</style>\n",
       "<table border=\"1\" class=\"dataframe\">\n",
       "  <thead>\n",
       "    <tr style=\"text-align: right;\">\n",
       "      <th></th>\n",
       "      <th>asset</th>\n",
       "      <th>cum_ret</th>\n",
       "      <th>ann_ret</th>\n",
       "    </tr>\n",
       "  </thead>\n",
       "  <tbody>\n",
       "    <tr>\n",
       "      <th>0</th>\n",
       "      <td>reit_mkt_eqw</td>\n",
       "      <td>8.852098</td>\n",
       "      <td>0.132902</td>\n",
       "    </tr>\n",
       "    <tr>\n",
       "      <th>1</th>\n",
       "      <td>risk_free</td>\n",
       "      <td>0.270678</td>\n",
       "      <td>0.013152</td>\n",
       "    </tr>\n",
       "  </tbody>\n",
       "</table>\n",
       "</div>"
      ],
      "text/plain": [
       "          asset   cum_ret   ann_ret\n",
       "0  reit_mkt_eqw  8.852098  0.132902\n",
       "1     risk_free  0.270678  0.013152"
      ]
     },
     "execution_count": 24,
     "metadata": {},
     "output_type": "execute_result"
    }
   ],
   "source": [
    "(\n",
    "pd.concat([df_1m_treasury, df_reit_mkt_eqw])\n",
    "    .groupby(['asset'])[['month_ret']].agg(cum_ret).reset_index().rename(columns={'month_ret':'cum_ret'})\n",
    "    .assign(ann_ret = lambda df: (df.cum_ret + 1) ** (12 / 220) - 1)\n",
    ")"
   ]
  }
 ],
 "metadata": {
  "kernelspec": {
   "display_name": "Python 3",
   "language": "python",
   "name": "python3"
  },
  "language_info": {
   "codemirror_mode": {
    "name": "ipython",
    "version": 3
   },
   "file_extension": ".py",
   "mimetype": "text/x-python",
   "name": "python",
   "nbconvert_exporter": "python",
   "pygments_lexer": "ipython3",
   "version": "3.7.3"
  }
 },
 "nbformat": 4,
 "nbformat_minor": 4
}
