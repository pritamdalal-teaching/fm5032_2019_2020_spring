{
 "cells": [
  {
   "cell_type": "markdown",
   "metadata": {},
   "source": [
    "# Coronavirus Visualization\n",
    "\n",
    "We are living in exceptional times.  Covid-19 is having a big impact on the world generally, and on financial markets in particular.\n",
    "\n",
    "In this assignment, I am asking you to find some data related to the coronavirus, or with the recent turmoil in financial markets.  Create at least one visualization with a data set of your choice, and then write 1-2 paragraphs interpreting the data.  Don't worry too much about your interpretation, if it's simply a series of hypotheses, or questions that come up in your mind, that's just fine. Spend some time making your visualization readable for the grader.\n",
    "\n",
    "*Your write-up should include a detailed description of what your dataset is: time-period, source, etc.  Based on the labels of your graph, and your written description, the grader should have certainty as to what they are looking at.*\n",
    "\n",
    "Here are a few good places to find free financial data, all of which are accessible with `pandas-datareader`.\n",
    "\n",
    "**Yahoo Finance:** https://finance.yahoo.com/\n",
    "\n",
    "**St Louis Federal Reserve:** https://fred.stlouisfed.org/\n",
    "\n",
    "**Quandl:**  https://www.quandl.com/ - quandl is a collection of mostly paid-for offerings, but are free data sets available as well.  A couple of months ago, I created a list of interesting free data sources that can be found on quandl, you can find that list [here](https://github.com/active-analytics/msf6821_2020_spring/blob/master/markdown_documents/04_data_sources.md). There are other free data sources available on quandl, you are free to browse for those on directly on their website."
   ]
  },
  {
   "cell_type": "code",
   "execution_count": null,
   "metadata": {},
   "outputs": [],
   "source": []
  }
 ],
 "metadata": {
  "kernelspec": {
   "display_name": "Python 3",
   "language": "python",
   "name": "python3"
  },
  "language_info": {
   "codemirror_mode": {
    "name": "ipython",
    "version": 3
   },
   "file_extension": ".py",
   "mimetype": "text/x-python",
   "name": "python",
   "nbconvert_exporter": "python",
   "pygments_lexer": "ipython3",
   "version": "3.7.3"
  }
 },
 "nbformat": 4,
 "nbformat_minor": 4
}
